{
 "cells": [
  {
   "cell_type": "markdown",
   "metadata": {},
   "source": [
    "# Karuba Junior\n",
    "> Calculating the odds of winning a cooperative child game.\n",
    "\n",
    "- categories: [board games, monte carlo]\n",
    "- image: \"https://cf.geekdo-images.com/imagepage/img/gzLtKeHmprKcxhBGhJ_hY1o4kR4=/fit-in/900x600/filters:no_upscale()/pic3742928.jpg\"\n"
   ]
  },
  {
   "cell_type": "markdown",
   "metadata": {},
   "source": [
    "[Karuba Junior](https://www.boardgamegeek.com/boardgame/234439/karuba-junior) is a cooperative tile-placement adventure game.\n",
    "Having lost twice in a row I wanted to calculate the odds of winning this game.\n",
    "\n",
    "As expected for a child games the rules are dead simple. \n",
    "The players take turns in drawing a card and using it to extend or end one of the 4 starting roads.\n",
    "Tigers and treasures end a road.\n",
    "Forks and crossroads add one and two additional roads, respectively, as long as they are placed in such a way that none of the roads are blocked by another card, which in practice is always possible.\n",
    "The game is won if all 3 treasures are found.\n",
    "The game is lost if there is no open road left, or if the pirates advanced a total of 9 fields, which happens by drawing the corresponding pirate cards. \n",
    "\n",
    "Let's find the odds of winning the game through Monte Carlo. "
   ]
  },
  {
   "cell_type": "markdown",
   "metadata": {},
   "source": [
    "### Implementation\n",
    "We need 3 counters: the number of treasures found, the number of open roads, and the number of pirate moves.\n",
    "For each card we define how the counters change in form of a 3-component vector. \n",
    "Then we can accumulate the changes in the random order they are drawn and determine which win/loss condition occurs first.\n",
    "\n",
    "There are 28 cards:\n",
    "* 3 treasures\n",
    "* 3 tigers\n",
    "* 11 straight and curved roads\n",
    "* 3 forks\n",
    "* 1 crossroads\n",
    "* 6 pirate cards: 3 cards with one movement point, 2 two's and 1 three"
   ]
  },
  {
   "cell_type": "code",
   "execution_count": 1,
   "metadata": {},
   "outputs": [],
   "source": [
    "#collapse-show\n",
    "import numpy as np\n",
    "\n",
    "# card = (#treasure, #roads, #pirates)\n",
    "cards = np.concatenate([\n",
    "    np.repeat([[1, -1, 0]], 3, axis=0),  # treasure\n",
    "    np.repeat([[0, -1, 0]], 3, axis=0),  # tiger\n",
    "    np.repeat([[0, 0, 0]], 11, axis=0),  # simple road\n",
    "    np.repeat([[0, 1, 0]], 4, axis=0),  # fork\n",
    "    np.repeat([[0, 2, 0]], 1, axis=0),  # crossroad\n",
    "    np.repeat([[0, 0, 1]], 3, axis=0),  # pirate 1\n",
    "    np.repeat([[0, 0, 2]], 2, axis=0),  # pirate 2\n",
    "    np.repeat([[0, 0, 3]], 1, axis=0),  # pirate 3\n",
    "])\n",
    "\n",
    "def simulate():\n",
    "    \"\"\"Simulate a game and determine the win or loss condition\"\"\"\n",
    "    np.random.shuffle(cards)\n",
    "    \n",
    "    # all counter start from 0\n",
    "    (treasures, roads, pirates) = cards.cumsum(axis=0).T\n",
    "    \n",
    "    # round when all 3 treasures found\n",
    "    i_treasure = np.where(treasures == 3)[0][0]\n",
    "    \n",
    "    # round when pirates arrive at the beach\n",
    "    i_pirates = np.where(pirates >= 9)[0][0]\n",
    "        \n",
    "    # check if all roads are blocked\n",
    "    if (roads == -4).any():\n",
    "        i_roads = np.where(roads <= -4)[0][0]\n",
    "    else:\n",
    "        i_roads = np.inf\n",
    "    \n",
    "    # note: the case that the third treasure also closes the last road is correctly registered as a win\n",
    "    return np.argmin([i_treasure, i_roads, i_pirates])"
   ]
  },
  {
   "cell_type": "code",
   "execution_count": 2,
   "metadata": {},
   "outputs": [],
   "source": [
    "n = 100000\n",
    "res = [simulate() for i in range(n)]\n",
    "frequency = np.bincount(res) / n"
   ]
  },
  {
   "cell_type": "code",
   "execution_count": 3,
   "metadata": {
    "tags": []
   },
   "outputs": [
    {
     "output_type": "stream",
     "name": "stdout",
     "text": "Probability of outcomes\nWin:                  p=0.508\nLoss (roads blocked): p=0.052\nLoss (pirates):       p=0.441\n"
    }
   ],
   "source": [
    "#hide_input\n",
    "print('Probability of outcomes')\n",
    "print(f'Win:                  p={frequency[0]:.3f}')\n",
    "print(f'Loss (roads blocked): p={frequency[1]:.3f}')\n",
    "print(f'Loss (pirates):       p={frequency[2]:.3f}')"
   ]
  },
  {
   "cell_type": "markdown",
   "metadata": {},
   "source": [
    "So we have a ~50% win probability. Pirates are the most likely reason for losing. Losing due to blocked roads happens rarely if played correctly, but this is a game for 4-8 year olds after all."
   ]
  }
 ],
 "metadata": {
  "kernelspec": {
   "display_name": "Python 3",
   "language": "python",
   "name": "python3"
  },
  "language_info": {
   "codemirror_mode": {
    "name": "ipython",
    "version": 3
   },
   "file_extension": ".py",
   "mimetype": "text/x-python",
   "name": "python",
   "nbconvert_exporter": "python",
   "pygments_lexer": "ipython3",
   "version": "3.7.6-final"
  }
 },
 "nbformat": 4,
 "nbformat_minor": 4
}